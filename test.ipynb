{
 "cells": [
  {
   "cell_type": "code",
   "execution_count": 1,
   "metadata": {},
   "outputs": [],
   "source": [
    "from stree import Stree\n",
    "from sklearn.ensemble import BaggingClassifier, AdaBoostClassifier\n",
    "from sklearn.model_selection import GridSearchCV\n",
    "from experimentation.Sets import Dataset\n",
    "from sklearn.svm import SVC"
   ]
  },
  {
   "cell_type": "code",
   "execution_count": 2,
   "metadata": {},
   "outputs": [],
   "source": [
    "dt = Dataset(normalize=True)\n",
    "X, y = dt.load(\"iris\")"
   ]
  },
  {
   "cell_type": "code",
   "execution_count": 8,
   "metadata": {},
   "outputs": [],
   "source": [
    "pb = dict(max_samples=.4, n_estimators=50, max_features=.6, n_jobs=-1, random_state=1)\n",
    "ps = dict(random_state=1, C=17, kernel=\"linear\", split_criteria=\"max_samples\")"
   ]
  },
  {
   "cell_type": "code",
   "execution_count": 9,
   "metadata": {},
   "outputs": [],
   "source": [
    "clf = Stree(**ps)"
   ]
  },
  {
   "cell_type": "code",
   "execution_count": 10,
   "metadata": {},
   "outputs": [],
   "source": [
    "bc = BaggingClassifier(base_estimator=clf, **pb)"
   ]
  },
  {
   "cell_type": "code",
   "execution_count": 11,
   "metadata": {},
   "outputs": [
    {
     "output_type": "execute_result",
     "data": {
      "text/plain": [
       "BaggingClassifier(base_estimator=Stree(C=17, random_state=1,\n",
       "                                       split_criteria='max_samples'),\n",
       "                  max_features=0.6, max_samples=0.4, n_estimators=50, n_jobs=-1,\n",
       "                  random_state=1)"
      ]
     },
     "metadata": {},
     "execution_count": 11
    }
   ],
   "source": [
    "bc.fit(X, y)"
   ]
  },
  {
   "cell_type": "code",
   "execution_count": 12,
   "metadata": {},
   "outputs": [],
   "source": [
    "br = BaggingClassifier(base_estimator=SVC(), **pb)"
   ]
  },
  {
   "cell_type": "code",
   "execution_count": 13,
   "metadata": {},
   "outputs": [
    {
     "output_type": "execute_result",
     "data": {
      "text/plain": [
       "0.96"
      ]
     },
     "metadata": {},
     "execution_count": 13
    }
   ],
   "source": [
    "bc.score(X, y)"
   ]
  },
  {
   "cell_type": "code",
   "execution_count": 14,
   "metadata": {},
   "outputs": [
    {
     "output_type": "execute_result",
     "data": {
      "text/plain": [
       "0.9866666666666667"
      ]
     },
     "metadata": {},
     "execution_count": 14
    }
   ],
   "source": [
    "clf.fit(X, y).score(X, y)"
   ]
  },
  {
   "cell_type": "code",
   "execution_count": 9,
   "metadata": {},
   "outputs": [],
   "source": [
    "param_grid = [\n",
    "            {\n",
    "                \"random_state\": [1],\n",
    "                \"C\": [1, 55, 1e4],\n",
    "                \"max_iter\": [1e4, 1e5, 1e6],\n",
    "                \"split_criteria\": [\"max_distance\", \"max_samples\"],\n",
    "                \"max_features\": [None, \"auto\"],\n",
    "            },\n",
    "            {\n",
    "                \"random_state\": [1],\n",
    "                \"kernel\": [\"rbf\"],\n",
    "                \"C\": [1, 55, 1e4],\n",
    "                \"gamma\": [1e-1, 1, 1e1],\n",
    "                \"max_iter\": [1e4, 1e5, 1e6],\n",
    "                \"split_criteria\": [\"max_distance\", \"max_samples\"],\n",
    "                \"max_features\": [None, \"auto\"],\n",
    "            },\n",
    "            {\n",
    "                \"random_state\": [1],\n",
    "                \"kernel\": [\"poly\"],\n",
    "                \"degree\": [3, 5],\n",
    "                \"C\": [1, 55, 1e4],\n",
    "                \"gamma\": [1e-1, 1, 1e1],\n",
    "                \"max_iter\": [1e4, 1e5, 1e6],\n",
    "                \"split_criteria\": [\"max_distance\", \"max_samples\"],\n",
    "                \"max_features\": [None, \"auto\"],\n",
    "            },\n",
    "        ]"
   ]
  },
  {
   "cell_type": "code",
   "execution_count": null,
   "metadata": {},
   "outputs": [],
   "source": [
    "param_grid = [\n",
    "            {\n",
    "                \"random_state\": [1],\n",
    "                \"kernel\": [\"poly\"],\n",
    "                \"degree\": [3, 5, 6],\n",
    "                \"C\": [1, 55],\n",
    "                \"gamma\": [1e-1, 1, 1e1],\n",
    "                \"max_iter\": [1e4, 1e5, 1e6],\n",
    "                \"split_criteria\": [\"max_distance\", \"max_samples\"],\n",
    "                \"max_features\": [None, \"auto\"],\n",
    "            },\n",
    "        ]"
   ]
  },
  {
   "cell_type": "code",
   "execution_count": 10,
   "metadata": {},
   "outputs": [],
   "source": [
    "res = []\n",
    "for group in param_grid:\n",
    "    group_ = {}\n",
    "    for key, value in group.items():\n",
    "        group_[f\"base_estimator__{key}\"] = value\n",
    "    for key, value in pb.items():\n",
    "        group_[key] = [value]\n",
    "    res.append(group_)\n",
    "param_grid = res"
   ]
  },
  {
   "cell_type": "code",
   "execution_count": 11,
   "metadata": {},
   "outputs": [
    {
     "data": {
      "text/plain": [
       "[{'base_estimator__random_state': [1],\n",
       "  'base_estimator__C': [1, 55, 10000.0],\n",
       "  'base_estimator__max_iter': [10000.0, 100000.0, 1000000.0],\n",
       "  'base_estimator__split_criteria': ['max_distance', 'max_samples'],\n",
       "  'base_estimator__max_features': [None, 'auto'],\n",
       "  'max_samples': [0.4],\n",
       "  'n_estimators': [50],\n",
       "  'max_features': [0.6],\n",
       "  'n_jobs': [-1],\n",
       "  'random_state': [1]},\n",
       " {'base_estimator__random_state': [1],\n",
       "  'base_estimator__kernel': ['rbf'],\n",
       "  'base_estimator__C': [1, 55, 10000.0],\n",
       "  'base_estimator__gamma': [0.1, 1, 10.0],\n",
       "  'base_estimator__max_iter': [10000.0, 100000.0, 1000000.0],\n",
       "  'base_estimator__split_criteria': ['max_distance', 'max_samples'],\n",
       "  'base_estimator__max_features': [None, 'auto'],\n",
       "  'max_samples': [0.4],\n",
       "  'n_estimators': [50],\n",
       "  'max_features': [0.6],\n",
       "  'n_jobs': [-1],\n",
       "  'random_state': [1]},\n",
       " {'base_estimator__random_state': [1],\n",
       "  'base_estimator__kernel': ['poly'],\n",
       "  'base_estimator__degree': [3, 5],\n",
       "  'base_estimator__C': [1, 55, 10000.0],\n",
       "  'base_estimator__gamma': [0.1, 1, 10.0],\n",
       "  'base_estimator__max_iter': [10000.0, 100000.0, 1000000.0],\n",
       "  'base_estimator__split_criteria': ['max_distance', 'max_samples'],\n",
       "  'base_estimator__max_features': [None, 'auto'],\n",
       "  'max_samples': [0.4],\n",
       "  'n_estimators': [50],\n",
       "  'max_features': [0.6],\n",
       "  'n_jobs': [-1],\n",
       "  'random_state': [1]}]"
      ]
     },
     "execution_count": 11,
     "metadata": {},
     "output_type": "execute_result"
    }
   ],
   "source": [
    "res"
   ]
  },
  {
   "cell_type": "code",
   "execution_count": 31,
   "metadata": {},
   "outputs": [],
   "source": [
    "grid_simple=[{'base_estimator__random_state': [1],\n",
    "  'base_estimator__C': [55],\n",
    "  'base_estimator__split_criteria': ['max_distance'],\n",
    "  'base_estimator__max_features': [None],\n",
    "  'max_samples': [0.4],\n",
    "  'n_estimators': [50],\n",
    "  'max_features': [0.6],\n",
    "  'n_jobs': [-1],\n",
    "  'random_state': [1]}]"
   ]
  },
  {
   "cell_type": "code",
   "execution_count": 32,
   "metadata": {},
   "outputs": [],
   "source": [
    "grid_search = GridSearchCV(estimator=bc, return_train_score=True, param_grid=grid_simple, n_jobs=-1)"
   ]
  },
  {
   "cell_type": "code",
   "execution_count": 88,
   "metadata": {},
   "outputs": [
    {
     "data": {
      "text/plain": [
       "'GridSearchCV'"
      ]
     },
     "execution_count": 88,
     "metadata": {},
     "output_type": "execute_result"
    }
   ],
   "source": [
    "grid_search.__class__.__name__"
   ]
  },
  {
   "cell_type": "code",
   "execution_count": 87,
   "metadata": {},
   "outputs": [
    {
     "data": {
      "text/plain": [
       "'Stree'"
      ]
     },
     "execution_count": 87,
     "metadata": {},
     "output_type": "execute_result"
    }
   ],
   "source": [
    "clf.__class__.__name__\n"
   ]
  },
  {
   "cell_type": "code",
   "execution_count": 79,
   "metadata": {},
   "outputs": [
    {
     "data": {
      "text/plain": [
       "['__abstractmethods__',\n",
       " '__class__',\n",
       " '__delattr__',\n",
       " '__dict__',\n",
       " '__dir__',\n",
       " '__doc__',\n",
       " '__eq__',\n",
       " '__format__',\n",
       " '__ge__',\n",
       " '__getattribute__',\n",
       " '__getstate__',\n",
       " '__gt__',\n",
       " '__hash__',\n",
       " '__init__',\n",
       " '__init_subclass__',\n",
       " '__le__',\n",
       " '__lt__',\n",
       " '__module__',\n",
       " '__ne__',\n",
       " '__new__',\n",
       " '__reduce__',\n",
       " '__reduce_ex__',\n",
       " '__repr__',\n",
       " '__setattr__',\n",
       " '__setstate__',\n",
       " '__sizeof__',\n",
       " '__str__',\n",
       " '__subclasshook__',\n",
       " '__weakref__',\n",
       " '_abc_impl',\n",
       " '_check_is_fitted',\n",
       " '_check_n_features',\n",
       " '_estimator_type',\n",
       " '_format_results',\n",
       " '_get_param_names',\n",
       " '_get_tags',\n",
       " '_more_tags',\n",
       " '_pairwise',\n",
       " '_repr_html_',\n",
       " '_repr_html_inner',\n",
       " '_repr_mimebundle_',\n",
       " '_required_parameters',\n",
       " '_run_search',\n",
       " '_validate_data',\n",
       " 'best_estimator_',\n",
       " 'best_index_',\n",
       " 'best_params_',\n",
       " 'best_score_',\n",
       " 'classes_',\n",
       " 'cv',\n",
       " 'cv_results_',\n",
       " 'decision_function',\n",
       " 'error_score',\n",
       " 'estimator',\n",
       " 'fit',\n",
       " 'get_params',\n",
       " 'iid',\n",
       " 'inverse_transform',\n",
       " 'multimetric_',\n",
       " 'n_features_in_',\n",
       " 'n_jobs',\n",
       " 'n_splits_',\n",
       " 'param_grid',\n",
       " 'pre_dispatch',\n",
       " 'predict',\n",
       " 'predict_log_proba',\n",
       " 'predict_proba',\n",
       " 'refit',\n",
       " 'refit_time_',\n",
       " 'return_train_score',\n",
       " 'score',\n",
       " 'scorer_',\n",
       " 'scoring',\n",
       " 'set_params',\n",
       " 'transform',\n",
       " 'verbose']"
      ]
     },
     "execution_count": 79,
     "metadata": {},
     "output_type": "execute_result"
    }
   ],
   "source": [
    "dir(grid_search)"
   ]
  },
  {
   "cell_type": "code",
   "execution_count": 33,
   "metadata": {},
   "outputs": [
    {
     "data": {
      "text/plain": [
       "GridSearchCV(estimator=BaggingClassifier(base_estimator=Stree(C=17,\n",
       "                                                              random_state=1,\n",
       "                                                              split_criteria='max_distance'),\n",
       "                                         max_features=0.6, max_samples=0.4,\n",
       "                                         n_estimators=50, n_jobs=-1,\n",
       "                                         random_state=1),\n",
       "             n_jobs=-1,\n",
       "             param_grid=[{'base_estimator__C': [55],\n",
       "                          'base_estimator__max_features': [None],\n",
       "                          'base_estimator__random_state': [1],\n",
       "                          'base_estimator__split_criteria': ['max_distance'],\n",
       "                          'max_features': [0.6], 'max_samples': [0.4],\n",
       "                          'n_estimators': [50], 'n_jobs': [-1],\n",
       "                          'random_state': [1]}],\n",
       "             return_train_score=True)"
      ]
     },
     "execution_count": 33,
     "metadata": {},
     "output_type": "execute_result"
    }
   ],
   "source": [
    "grid_search.fit(X, y)"
   ]
  },
  {
   "cell_type": "code",
   "execution_count": 34,
   "metadata": {},
   "outputs": [
    {
     "data": {
      "text/plain": [
       "0.9733333333333334"
      ]
     },
     "execution_count": 34,
     "metadata": {},
     "output_type": "execute_result"
    }
   ],
   "source": [
    "grid_search.score(X, y)"
   ]
  },
  {
   "cell_type": "code",
   "execution_count": 30,
   "metadata": {},
   "outputs": [
    {
     "data": {
      "text/plain": [
       "0.98"
      ]
     },
     "execution_count": 30,
     "metadata": {},
     "output_type": "execute_result"
    }
   ],
   "source": [
    "grid_simple2=[{'base_estimator__random_state': [1],\n",
    "  'base_estimator__C': [55],\n",
    "  'max_samples': [.8],\n",
    "  'n_estimators': [50, 100],\n",
    "  'max_features': [1.0],\n",
    "  'n_jobs': [-1],\n",
    "  'random_state': [1]}]\n",
    "grid_search = GridSearchCV(estimator=br, return_train_score=True, param_grid=grid_simple2, n_jobs=-1)\n",
    "grid_search.fit(X, y)\n",
    "grid_search.score(X, y)"
   ]
  },
  {
   "cell_type": "code",
   "execution_count": 44,
   "metadata": {},
   "outputs": [],
   "source": [
    "data = grid_search.get_params()"
   ]
  },
  {
   "cell_type": "code",
   "execution_count": 38,
   "metadata": {},
   "outputs": [],
   "source": [
    "k=type(clf)"
   ]
  },
  {
   "cell_type": "code",
   "execution_count": 41,
   "metadata": {},
   "outputs": [],
   "source": [
    "km = type(clf)()"
   ]
  },
  {
   "cell_type": "code",
   "execution_count": 42,
   "metadata": {},
   "outputs": [
    {
     "data": {
      "text/plain": [
       "stree.Strees.Stree"
      ]
     },
     "execution_count": 42,
     "metadata": {},
     "output_type": "execute_result"
    }
   ],
   "source": [
    "type(km)"
   ]
  },
  {
   "cell_type": "code",
   "execution_count": 43,
   "metadata": {},
   "outputs": [
    {
     "ename": "NameError",
     "evalue": "name 'nan' is not defined",
     "output_type": "error",
     "traceback": [
      "\u001b[0;31m---------------------------------------------------------------------------\u001b[0m",
      "\u001b[0;31mNameError\u001b[0m                                 Traceback (most recent call last)",
      "\u001b[0;32m<ipython-input-43-7d5f137e21ae>\u001b[0m in \u001b[0;36m<module>\u001b[0;34m\u001b[0m\n\u001b[1;32m      1\u001b[0m data = {'cv': None,\n\u001b[0;32m----> 2\u001b[0;31m  \u001b[0;34m'error_score'\u001b[0m\u001b[0;34m:\u001b[0m \u001b[0mnan\u001b[0m\u001b[0;34m,\u001b[0m\u001b[0;34m\u001b[0m\u001b[0;34m\u001b[0m\u001b[0m\n\u001b[0m\u001b[1;32m      3\u001b[0m  \u001b[0;34m'estimator__base_estimator__C'\u001b[0m\u001b[0;34m:\u001b[0m \u001b[0;36m17\u001b[0m\u001b[0;34m,\u001b[0m\u001b[0;34m\u001b[0m\u001b[0;34m\u001b[0m\u001b[0m\n\u001b[1;32m      4\u001b[0m  \u001b[0;34m'estimator__base_estimator__criterion'\u001b[0m\u001b[0;34m:\u001b[0m \u001b[0;34m'gini'\u001b[0m\u001b[0;34m,\u001b[0m\u001b[0;34m\u001b[0m\u001b[0;34m\u001b[0m\u001b[0m\n\u001b[1;32m      5\u001b[0m  \u001b[0;34m'estimator__base_estimator__degree'\u001b[0m\u001b[0;34m:\u001b[0m \u001b[0;36m3\u001b[0m\u001b[0;34m,\u001b[0m\u001b[0;34m\u001b[0m\u001b[0;34m\u001b[0m\u001b[0m\n",
      "\u001b[0;31mNameError\u001b[0m: name 'nan' is not defined"
     ]
    }
   ],
   "source": [
    "data = {'cv': None,\n",
    " 'error_score': nan,\n",
    " 'estimator__base_estimator__C': 17,\n",
    " 'estimator__base_estimator__criterion': 'gini',\n",
    " 'estimator__base_estimator__degree': 3,\n",
    " 'estimator__base_estimator__gamma': 'scale',\n",
    " 'estimator__base_estimator__kernel': 'linear',\n",
    " 'estimator__base_estimator__max_depth': None,\n",
    " 'estimator__base_estimator__max_features': None,\n",
    " 'estimator__base_estimator__max_iter': 1000,\n",
    " 'estimator__base_estimator__min_samples_split': 0,\n",
    " 'estimator__base_estimator__random_state': 1,\n",
    " 'estimator__base_estimator__split_criteria': 'max_distance',\n",
    " 'estimator__base_estimator__splitter': 'random',\n",
    " 'estimator__base_estimator__tol': 0.0001,\n",
    " 'estimator__base_estimator': Stree(C=17, random_state=1, split_criteria='max_distance'),\n",
    " 'estimator__bootstrap': True,\n",
    " 'estimator__bootstrap_features': False,\n",
    " 'estimator__max_features': 0.6,\n",
    " 'estimator__max_samples': 0.4,\n",
    " 'estimator__n_estimators': 50,\n",
    " 'estimator__n_jobs': -1,\n",
    " 'estimator__oob_score': False,\n",
    " 'estimator__random_state': 1,\n",
    " 'estimator__verbose': 0,\n",
    " 'estimator__warm_start': False,\n",
    " 'estimator': BaggingClassifier(base_estimator=Stree(C=17, random_state=1,\n",
    "                                        split_criteria='max_distance'),\n",
    "                   max_features=0.6, max_samples=0.4, n_estimators=50, n_jobs=-1,\n",
    "                   random_state=1),\n",
    " 'iid': 'deprecated',\n",
    " 'n_jobs': -1,\n",
    " 'param_grid': [{'base_estimator__random_state': [1],\n",
    "   'base_estimator__C': [55],\n",
    "   'base_estimator__split_criteria': ['max_distance'],\n",
    "   'base_estimator__max_features': [None],\n",
    "   'max_samples': [0.4],\n",
    "   'n_estimators': [50],\n",
    "   'max_features': [0.6],\n",
    "   'n_jobs': [-1],\n",
    "   'random_state': [1]}],\n",
    " 'pre_dispatch': '2*n_jobs',\n",
    " 'refit': True,\n",
    " 'return_train_score': True,\n",
    " 'scoring': None,\n",
    " 'verbose': 0}"
   ]
  },
  {
   "cell_type": "code",
   "execution_count": 61,
   "metadata": {},
   "outputs": [],
   "source": [
    "origin = AdaBoostClassifier()"
   ]
  },
  {
   "cell_type": "code",
   "execution_count": 62,
   "metadata": {},
   "outputs": [
    {
     "data": {
      "text/plain": [
       "{'algorithm': 'SAMME.R',\n",
       " 'base_estimator': None,\n",
       " 'learning_rate': 1.0,\n",
       " 'n_estimators': 50,\n",
       " 'random_state': None}"
      ]
     },
     "execution_count": 62,
     "metadata": {},
     "output_type": "execute_result"
    }
   ],
   "source": [
    "origin.get_params()"
   ]
  },
  {
   "cell_type": "code",
   "execution_count": 70,
   "metadata": {},
   "outputs": [],
   "source": [
    "data = grid_search.best_params_"
   ]
  },
  {
   "cell_type": "code",
   "execution_count": 67,
   "metadata": {},
   "outputs": [],
   "source": [
    "default = type(bc)().get_params()"
   ]
  },
  {
   "cell_type": "code",
   "execution_count": 72,
   "metadata": {},
   "outputs": [],
   "source": [
    "res = {}\n",
    "for key, value in data.items():\n",
    "    if key not in default or data[key] != default[key]:\n",
    "        res[key] = value"
   ]
  },
  {
   "cell_type": "code",
   "execution_count": 73,
   "metadata": {},
   "outputs": [
    {
     "data": {
      "text/plain": [
       "{'base_estimator__C': 55,\n",
       " 'base_estimator__max_features': None,\n",
       " 'base_estimator__random_state': 1,\n",
       " 'base_estimator__split_criteria': 'max_distance',\n",
       " 'max_features': 0.6,\n",
       " 'max_samples': 0.4,\n",
       " 'n_estimators': 50,\n",
       " 'n_jobs': -1,\n",
       " 'random_state': 1}"
      ]
     },
     "execution_count": 73,
     "metadata": {},
     "output_type": "execute_result"
    }
   ],
   "source": [
    "res"
   ]
  },
  {
   "cell_type": "code",
   "execution_count": null,
   "metadata": {},
   "outputs": [],
   "source": []
  }
 ],
 "metadata": {
  "kernelspec": {
   "display_name": "Python 3.7.6 64-bit ('general': venv)",
   "language": "python",
   "name": "python37664bitgeneralvenvfbd0a23e74cf4e778460f5ffc6761f39"
  },
  "language_info": {
   "codemirror_mode": {
    "name": "ipython",
    "version": 3
   },
   "file_extension": ".py",
   "mimetype": "text/x-python",
   "name": "python",
   "nbconvert_exporter": "python",
   "pygments_lexer": "ipython3",
   "version": "3.8.4-final"
  }
 },
 "nbformat": 4,
 "nbformat_minor": 4
}