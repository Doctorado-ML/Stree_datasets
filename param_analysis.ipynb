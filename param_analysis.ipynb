{
 "metadata": {
  "language_info": {
   "codemirror_mode": {
    "name": "ipython",
    "version": 3
   },
   "file_extension": ".py",
   "mimetype": "text/x-python",
   "name": "python",
   "nbconvert_exporter": "python",
   "pygments_lexer": "ipython3",
   "version": "3.8.2-final"
  },
  "orig_nbformat": 2,
  "kernelspec": {
   "name": "python3",
   "display_name": "Python 3"
  }
 },
 "nbformat": 4,
 "nbformat_minor": 2,
 "cells": [
  {
   "cell_type": "code",
   "execution_count": 1,
   "metadata": {},
   "outputs": [],
   "source": [
    "import json\n",
    "import sqlite3\n",
    "import mysql.connector\n",
    "from experimentation.Utils import MySQL\n",
    "from experimentation.Sets import Datasets\n",
    "\n",
    "database = MySQL.get_connection()"
   ]
  },
  {
   "cell_type": "code",
   "execution_count": 2,
   "metadata": {},
   "outputs": [],
   "source": [
    "classifier = 'bagging'\n"
   ]
  },
  {
   "cell_type": "code",
   "execution_count": 3,
   "metadata": {},
   "outputs": [],
   "source": [
    "def find_best(dataset):\n",
    "    cursor = database.cursor(buffered=True)\n",
    "    if classifier == \"any\":\n",
    "        command = (\n",
    "            f\"select * from results r inner join reference e on \"\n",
    "            f\"r.dataset=e.dataset where r.dataset='{dataset}' \"\n",
    "        )\n",
    "    else:\n",
    "        command = (\n",
    "            f\"select * from results r inner join reference e on \"\n",
    "            f\"r.dataset=e.dataset where r.dataset='{dataset}' and classifier\"\n",
    "            f\"='{classifier}'\"\n",
    "        )\n",
    "    command += (\n",
    "        \" order by r.dataset, accuracy desc, classifier desc, type, date, time\"\n",
    "    )\n",
    "    cursor.execute(command)\n",
    "    return cursor.fetchone()"
   ]
  },
  {
   "cell_type": "code",
   "execution_count": 4,
   "metadata": {},
   "outputs": [],
   "source": [
    "def find_values(parameter, kernel_chosen):\n",
    "    result = []\n",
    "    for data in agg[kernel_chosen]:\n",
    "        base_parameter = f\"base_estimator__{parameter}\"\n",
    "        if parameter in data.keys():\n",
    "            result.append(data[parameter])\n",
    "        if base_parameter in data.keys():\n",
    "            result.append(data[base_parameter])\n",
    "    try:\n",
    "        result_ordered = sorted(result)\n",
    "        return result_ordered\n",
    "    except TypeError:\n",
    "        return result"
   ]
  },
  {
   "cell_type": "code",
   "execution_count": 5,
   "metadata": {},
   "outputs": [
    {
     "output_type": "stream",
     "name": "stdout",
     "text": [
      "Aggregating data ..................................................\n",
      "stree      has  0 results\n",
      "adaBoost   has  0 results\n",
      "bagging    has 43 results\n",
      "odte       has  0 results\n"
     ]
    }
   ],
   "source": [
    "dt = Datasets(False, False, 'tanveer')\n",
    "models = ['stree', 'adaBoost', 'bagging', 'odte']\n",
    "agg_models = {}\n",
    "for i in models:\n",
    "    agg_models[i] = 0\n",
    "agg = {'linear': [], 'rbf': [], 'poly': []}\n",
    "print(\"Aggregating data .\", end='')\n",
    "for dataset in dt:\n",
    "    result = find_best(dataset[0])\n",
    "    print('.', end='')\n",
    "    if result:\n",
    "        agg_models[result[3]] += 1\n",
    "        json_result = json.loads(result[8])\n",
    "        key = json_result['kernel'] if 'kernel' in json_result.keys() else 'linear'\n",
    "        agg[key].append(json_result)\n",
    "print('')\n",
    "for i in models:\n",
    "    print(f\"{i:10} has {agg_models[i]:2} results\")"
   ]
  },
  {
   "cell_type": "code",
   "execution_count": 6,
   "metadata": {},
   "outputs": [
    {
     "output_type": "stream",
     "name": "stdout",
     "text": [
      "Used kernel linear:  43  times\nUsed kernel poly:  0  times\nUsed kernel rbf:  0  times\n"
     ]
    }
   ],
   "source": [
    "print(\"Used kernel linear: \", len(agg['linear']), ' times')\n",
    "print(\"Used kernel poly: \", len(agg['poly']), ' times')\n",
    "print(\"Used kernel rbf: \", len(agg['rbf']), ' times')"
   ]
  },
  {
   "cell_type": "code",
   "execution_count": 7,
   "metadata": {},
   "outputs": [
    {
     "output_type": "execute_result",
     "data": {
      "text/plain": [
       "[]"
      ]
     },
     "metadata": {},
     "execution_count": 7
    }
   ],
   "source": [
    "find_values('gamma', 'poly')"
   ]
  },
  {
   "cell_type": "code",
   "execution_count": 8,
   "metadata": {},
   "outputs": [
    {
     "output_type": "execute_result",
     "data": {
      "text/plain": [
       "[0.05,\n",
       " 0.05,\n",
       " 0.05,\n",
       " 0.05,\n",
       " 0.05,\n",
       " 0.05,\n",
       " 0.2,\n",
       " 0.2,\n",
       " 0.2,\n",
       " 0.2,\n",
       " 0.2,\n",
       " 0.2,\n",
       " 0.2,\n",
       " 0.55,\n",
       " 0.55,\n",
       " 0.55,\n",
       " 1.0,\n",
       " 7,\n",
       " 7,\n",
       " 7,\n",
       " 7,\n",
       " 7,\n",
       " 7,\n",
       " 7,\n",
       " 7,\n",
       " 7,\n",
       " 7,\n",
       " 7,\n",
       " 55,\n",
       " 55,\n",
       " 55,\n",
       " 55,\n",
       " 55,\n",
       " 55,\n",
       " 10000.0,\n",
       " 10000.0,\n",
       " 10000.0,\n",
       " 10000.0,\n",
       " 10000.0,\n",
       " 10000.0,\n",
       " 10000.0,\n",
       " 10000.0,\n",
       " 10000.0]"
      ]
     },
     "metadata": {},
     "execution_count": 8
    }
   ],
   "source": [
    "find_values('C', 'linear')"
   ]
  },
  {
   "cell_type": "code",
   "execution_count": 9,
   "metadata": {},
   "outputs": [
    {
     "output_type": "execute_result",
     "data": {
      "text/plain": [
       "[]"
      ]
     },
     "metadata": {},
     "execution_count": 9
    }
   ],
   "source": [
    "find_values('C', 'poly')"
   ]
  },
  {
   "cell_type": "code",
   "execution_count": 10,
   "metadata": {},
   "outputs": [
    {
     "output_type": "execute_result",
     "data": {
      "text/plain": [
       "[]"
      ]
     },
     "metadata": {},
     "execution_count": 10
    }
   ],
   "source": [
    "find_values('C', 'rbf')"
   ]
  },
  {
   "cell_type": "code",
   "execution_count": 11,
   "metadata": {},
   "outputs": [
    {
     "output_type": "execute_result",
     "data": {
      "text/plain": [
       "[0.6,\n",
       " None,\n",
       " 0.6,\n",
       " None,\n",
       " 0.6,\n",
       " None,\n",
       " 0.6,\n",
       " None,\n",
       " 0.6,\n",
       " 'auto',\n",
       " 0.6,\n",
       " None,\n",
       " 0.6,\n",
       " None,\n",
       " 0.6,\n",
       " None,\n",
       " 0.6,\n",
       " 'auto',\n",
       " 0.6,\n",
       " None,\n",
       " 0.6,\n",
       " 'auto',\n",
       " 0.6,\n",
       " None,\n",
       " 0.2,\n",
       " None,\n",
       " 0.6,\n",
       " 'auto',\n",
       " 0.6,\n",
       " None,\n",
       " 0.6,\n",
       " None,\n",
       " 0.6,\n",
       " 'auto',\n",
       " None,\n",
       " 0.6,\n",
       " None,\n",
       " 0.6,\n",
       " None,\n",
       " 0.6,\n",
       " 'auto',\n",
       " 0.6,\n",
       " None,\n",
       " 0.6,\n",
       " None,\n",
       " 0.6,\n",
       " None,\n",
       " 0.6,\n",
       " None,\n",
       " 0.6,\n",
       " 'auto',\n",
       " 0.6,\n",
       " None,\n",
       " 0.6,\n",
       " None,\n",
       " 0.6,\n",
       " 'auto',\n",
       " 0.6,\n",
       " None,\n",
       " 0.6,\n",
       " None,\n",
       " 0.6,\n",
       " 'auto',\n",
       " 0.2,\n",
       " None,\n",
       " 0.6,\n",
       " None,\n",
       " 0.2,\n",
       " 'auto',\n",
       " 0.6,\n",
       " None,\n",
       " 0.6,\n",
       " 'auto',\n",
       " 0.6,\n",
       " None,\n",
       " 0.6,\n",
       " None,\n",
       " 0.2,\n",
       " None,\n",
       " 0.6,\n",
       " None,\n",
       " 0.6,\n",
       " 'auto',\n",
       " 0.6,\n",
       " 'auto']"
      ]
     },
     "metadata": {},
     "execution_count": 11
    }
   ],
   "source": [
    "find_values('max_features', 'linear')"
   ]
  },
  {
   "cell_type": "code",
   "execution_count": null,
   "metadata": {},
   "outputs": [],
   "source": []
  }
 ]
}