{
 "metadata": {
  "language_info": {
   "codemirror_mode": {
    "name": "ipython",
    "version": 3
   },
   "file_extension": ".py",
   "mimetype": "text/x-python",
   "name": "python",
   "nbconvert_exporter": "python",
   "pygments_lexer": "ipython3",
   "version": "3.8.2-final"
  },
  "orig_nbformat": 2,
  "kernelspec": {
   "name": "python3",
   "display_name": "Python 3"
  }
 },
 "nbformat": 4,
 "nbformat_minor": 2,
 "cells": [
  {
   "cell_type": "code",
   "execution_count": 1,
   "metadata": {},
   "outputs": [],
   "source": [
    "from sklearn.model_selection import GridSearchCV, cross_validate\n",
    "from stree import Stree\n",
    "from experimentation.Sets import Datasets\n",
    "from experimentation import Experiment"
   ]
  },
  {
   "cell_type": "code",
   "execution_count": 2,
   "metadata": {},
   "outputs": [],
   "source": [
    "dataset_name = \"cylinder-bands\"\n",
    "dataset_name = \"pima\"\n",
    "dataset_name = \"conn-bench-sonar-mines-rocks\"\n",
    "parameters = {\"C\": .15, \"degree\": 6, \"gamma\": .7, \"kernel\": \"poly\", \"max_features\": None, \"max_iter\": 100000.0, \"random_state\": 0}\n",
    "parameters = {'C': 7, 'degree': 7, 'gamma': 0.1, 'kernel': 'poly', 'max_features': 'auto', 'max_iter': 10000.0, 'random_state': 1, 'split_criteria': 'impurity'}\n",
    "parameters = {\"C\": 0.2, \"max_iter\": 10000.0, \"random_state\": 1}\n",
    "parameters = {\"C\": 0.55, \"gamma\": 0.1, \"kernel\": \"rbf\", \"max_iter\": 10000.0, \"random_state\": 1}\n",
    "parameters = {\"C\": 55, \"max_iter\": 10000.0, \"random_state\": 1}"
   ]
  },
  {
   "cell_type": "code",
   "execution_count": 3,
   "metadata": {},
   "outputs": [],
   "source": [
    "datasets = Datasets(normalize=True, standardize=False, set_of_files=\"tanveer\")\n",
    "X, y = datasets.load(dataset_name)"
   ]
  },
  {
   "cell_type": "code",
   "execution_count": 4,
   "metadata": {},
   "outputs": [],
   "source": [
    "clf = Stree(**parameters)\n",
    "results = cross_validate(clf, X, y, n_jobs=1)"
   ]
  },
  {
   "cell_type": "code",
   "execution_count": 5,
   "metadata": {},
   "outputs": [
    {
     "output_type": "execute_result",
     "data": {
      "text/plain": [
       "{'fit_time': array([0.00772715, 0.03221297, 0.01418114, 0.06252027, 0.05369782]),\n",
       " 'score_time': array([0.00048399, 0.00044394, 0.00045371, 0.00051093, 0.00044894]),\n",
       " 'test_score': array([0.4047619 , 0.61904762, 0.66666667, 0.92682927, 0.58536585])}"
      ]
     },
     "metadata": {},
     "execution_count": 5
    }
   ],
   "source": [
    "results"
   ]
  },
  {
   "cell_type": "code",
   "execution_count": 6,
   "metadata": {},
   "outputs": [
    {
     "output_type": "execute_result",
     "data": {
      "text/plain": [
       "0.640534262485482"
      ]
     },
     "metadata": {},
     "execution_count": 6
    }
   ],
   "source": [
    "results['test_score'].mean()"
   ]
  },
  {
   "cell_type": "code",
   "execution_count": 7,
   "metadata": {},
   "outputs": [],
   "source": [
    "# 864 modelos por cada dataset\n",
    "C = [0.05, 0.2, 0.55, 7, 55, 1e4]\n",
    "max_iter = [1e4, 1e5, 1e6]\n",
    "gamma = [1e-1, 1, 1e1]\n",
    "max_features = [None, \"auto\"]\n",
    "split_criteria = [\"impurity\", \"max_samples\"]\n",
    "param_grid = [\n",
    "            {\n",
    "                \"random_state\": [1],\n",
    "                \"C\": C,\n",
    "                \"max_iter\": max_iter,\n",
    "                \"split_criteria\": split_criteria,\n",
    "                \"max_features\": max_features,\n",
    "            },\n",
    "            {\n",
    "                \"random_state\": [1],\n",
    "                \"kernel\": [\"rbf\"],\n",
    "                \"C\": C,\n",
    "                \"gamma\": gamma,\n",
    "                \"max_iter\": max_iter,\n",
    "                \"split_criteria\": split_criteria,\n",
    "                \"max_features\": max_features,\n",
    "            },\n",
    "            {\n",
    "                \"random_state\": [1],\n",
    "                \"kernel\": [\"poly\"],\n",
    "                \"degree\": [3, 5],\n",
    "                \"C\": C,\n",
    "                \"gamma\": gamma,\n",
    "                \"max_iter\": max_iter,\n",
    "                \"split_criteria\": split_criteria,\n",
    "                \"max_features\": max_features,\n",
    "            },\n",
    "        ]"
   ]
  },
  {
   "cell_type": "code",
   "execution_count": 8,
   "metadata": {},
   "outputs": [],
   "source": [
    "param_grid = [\n",
    "            {\n",
    "                \"random_state\": [1],\n",
    "                \"kernel\": [\"poly\"],\n",
    "                \"degree\": [5, 7],\n",
    "                \"C\": [55],\n",
    "                \"split_criteria\": split_criteria,\n",
    "                \"max_features\": max_features,\n",
    "            },\n",
    "        ]"
   ]
  },
  {
   "cell_type": "code",
   "execution_count": 9,
   "metadata": {},
   "outputs": [
    {
     "output_type": "execute_result",
     "data": {
      "text/plain": [
       "GridSearchCV(estimator=Stree(), n_jobs=1,\n",
       "             param_grid=[{'C': [55], 'degree': [5, 7], 'kernel': ['poly'],\n",
       "                          'max_features': [None, 'auto'], 'random_state': [1],\n",
       "                          'split_criteria': ['impurity', 'max_samples']}])"
      ]
     },
     "metadata": {},
     "execution_count": 9
    }
   ],
   "source": [
    "clf = Stree()\n",
    "model = GridSearchCV(clf, n_jobs=1, param_grid=param_grid)\n",
    "model.fit(X, y)"
   ]
  },
  {
   "source": [
    "print(model.cv_results_['params'][model.best_index_])"
   ],
   "cell_type": "markdown",
   "metadata": {
    "tags": []
   }
  },
  {
   "cell_type": "code",
   "execution_count": 11,
   "metadata": {},
   "outputs": [
    {
     "output_type": "stream",
     "name": "stdout",
     "text": [
      "0.6448315911730547\n"
     ]
    }
   ],
   "source": [
    "print(model.cv_results_['mean_test_score'][model.best_index_])"
   ]
  },
  {
   "cell_type": "code",
   "execution_count": 10,
   "metadata": {},
   "outputs": [
    {
     "output_type": "stream",
     "name": "stdout",
     "text": [
      "\n"
     ]
    }
   ],
   "source": [
    "print(clf)"
   ]
  },
  {
   "cell_type": "code",
   "execution_count": 1,
   "metadata": {},
   "outputs": [],
   "source": [
    "from stree import Stree\n",
    "from typing import Union, Optional, List\n",
    "from abc import ABC\n",
    "from sklearn.ensemble import (\n",
    "    AdaBoostClassifier,  # type: ignore\n",
    "    BaggingClassifier,  # type: ignore\n",
    ")\n",
    "from sklearn.ensemble import BaseEnsemble  # type: ignore\n",
    "from sklearn.base import BaseEstimator  # type: ignore\n",
    "from sklearn.svm import LinearSVC  # type: ignore\n",
    "from sklearn.tree import DecisionTreeClassifier  # type: ignore\n",
    "from odte import Odte\n",
    "\n",
    "\n",
    "class ModelBase(ABC):\n",
    "    def __init__(self, random_state: Optional[int]):\n",
    "        self._random_state = random_state\n",
    "\n",
    "    def get_model_name(self) -> str:\n",
    "        return self._model_name\n",
    "\n",
    "    def get_model(self) -> Union[BaseEnsemble, BaseEstimator]:\n",
    "        return self._clf\n",
    "\n",
    "    def get_parameters(self) -> dict:\n",
    "        return self._param_grid\n",
    "\n",
    "    def modified_parameters(self, optimum_parameters) -> dict:\n",
    "        result = dict()\n",
    "        # useful for ensembles\n",
    "        excluded = [\"base_estimator\"]\n",
    "        default_parameters = type(self._clf)().get_params()\n",
    "        for key, data in optimum_parameters.items():\n",
    "            if (\n",
    "                key not in default_parameters\n",
    "                or default_parameters[key] != data\n",
    "            ) and key not in excluded:\n",
    "                result[key] = data\n",
    "        return result\n",
    "\n",
    "\n",
    "class ModelStree(ModelBase):\n",
    "    def __init__(self, random_state: Optional[int] = None) -> None:\n",
    "        self._clf = Stree()\n",
    "        super().__init__(random_state)\n",
    "        self._model_name = \"stree\"\n",
    "        C = [0.05, 0.2, 0.55, 7, 55, 1e4]\n",
    "        max_iter = [1e4, 1e5, 1e6]\n",
    "        gamma = [1e-1, 1, 1e1]\n",
    "        max_features = [None, \"auto\"]\n",
    "        split_criteria = [\"impurity\", \"max_samples\"]\n",
    "        self._param_grid = [\n",
    "            {\n",
    "                \"random_state\": [self._random_state],\n",
    "                \"C\": C,\n",
    "                \"max_iter\": max_iter,\n",
    "                \"split_criteria\": split_criteria,\n",
    "                \"max_features\": max_features,\n",
    "            },\n",
    "            {\n",
    "                \"random_state\": [self._random_state],\n",
    "                \"kernel\": [\"rbf\"],\n",
    "                \"C\": C,\n",
    "                \"gamma\": gamma,\n",
    "                \"max_iter\": max_iter,\n",
    "                \"split_criteria\": split_criteria,\n",
    "                \"max_features\": max_features,\n",
    "            },\n",
    "            {\n",
    "                \"random_state\": [self._random_state],\n",
    "                \"kernel\": [\"poly\"],\n",
    "                \"degree\": [3, 5],\n",
    "                \"C\": C,\n",
    "                \"gamma\": gamma,\n",
    "                \"max_iter\": max_iter,\n",
    "                \"split_criteria\": split_criteria,\n",
    "                \"max_features\": max_features,\n",
    "            },\n",
    "        ]\n",
    "\n",
    "\n",
    "class ModelSVC(ModelBase):\n",
    "    def __init__(self, random_state: Optional[int] = None) -> None:\n",
    "        super().__init__(random_state)\n",
    "        self._clf = LinearSVC()\n",
    "        self._model_name = \"svc\"\n",
    "        max_iter = [1e4, 1e5, 1e6]\n",
    "        self._param_grid = [\n",
    "            {\n",
    "                \"random_state\": [self._random_state],\n",
    "                \"C\": [1, 55, 1e4],\n",
    "                \"max_iter\": max_iter,\n",
    "            },\n",
    "        ]\n",
    "\n",
    "\n",
    "class ModelDecisionTree(ModelBase):\n",
    "    def __init__(self, random_state: Optional[int] = None) -> None:\n",
    "        super().__init__(random_state)\n",
    "        self._clf = DecisionTreeClassifier()\n",
    "        self._model_name = \"dtree\"\n",
    "        self._param_grid = [\n",
    "            {\n",
    "                \"random_state\": [self._random_state],\n",
    "                \"max_features\": [None, \"log2\", \"auto\"],\n",
    "            },\n",
    "        ]\n",
    "\n",
    "\n",
    "class Ensemble(ModelBase):\n",
    "    def __init__(\n",
    "        self,\n",
    "        random_state: Optional[int] = 0,\n",
    "        base_model: Union[BaseEnsemble, BaseEstimator] = None,\n",
    "    ) -> None:\n",
    "        super().__init__(random_state)\n",
    "        self._base_model = base_model\n",
    "\n",
    "    def merge_parameters(self, params: dict) -> dict:\n",
    "        result = self._parameters.copy()\n",
    "        for key, value in params.items():\n",
    "            result[f\"base_estimator__{key}\"] = value\n",
    "        return result\n",
    "\n",
    "    def get_parameters(self) -> List[dict]:\n",
    "        result = []\n",
    "        for base_group in self._base_model.get_parameters():\n",
    "            result.append(self.merge_parameters(base_group))\n",
    "        return result\n",
    "\n",
    "\n",
    "class ModelAdaBoost(Ensemble):\n",
    "    def __init__(\n",
    "        self, random_state: int, base_model: BaseEstimator = ModelStree\n",
    "    ):\n",
    "        # Build base_model\n",
    "        super().__init__(\n",
    "            random_state, base_model=base_model(random_state=random_state)\n",
    "        )\n",
    "        self._clf = AdaBoostClassifier(\n",
    "            base_estimator=self._base_model.get_model(),\n",
    "            random_state=random_state,\n",
    "        )\n",
    "        self._model_name = f\"Adaboost_{self._base_model.__class__.__name__}\"\n",
    "\n",
    "    def get_parameters(self) -> List[dict]:\n",
    "        self._parameters = {\"n_estimators\": [50], \"algorithm\": [\"SAMME\"]}\n",
    "        return super().get_parameters()"
   ]
  },
  {
   "cell_type": "code",
   "execution_count": 2,
   "metadata": {},
   "outputs": [],
   "source": [
    "b = ModelAdaBoost(1)"
   ]
  },
  {
   "cell_type": "code",
   "execution_count": 3,
   "metadata": {},
   "outputs": [
    {
     "output_type": "execute_result",
     "data": {
      "text/plain": [
       "[{'n_estimators': [50],\n",
       "  'algorithm': ['SAMME'],\n",
       "  'base_estimator__random_state': [1],\n",
       "  'base_estimator__C': [0.05, 0.2, 0.55, 7, 55, 10000.0],\n",
       "  'base_estimator__max_iter': [10000.0, 100000.0, 1000000.0],\n",
       "  'base_estimator__split_criteria': ['impurity', 'max_samples'],\n",
       "  'base_estimator__max_features': [None, 'auto']},\n",
       " {'n_estimators': [50],\n",
       "  'algorithm': ['SAMME'],\n",
       "  'base_estimator__random_state': [1],\n",
       "  'base_estimator__kernel': ['rbf'],\n",
       "  'base_estimator__C': [0.05, 0.2, 0.55, 7, 55, 10000.0],\n",
       "  'base_estimator__gamma': [0.1, 1, 10.0],\n",
       "  'base_estimator__max_iter': [10000.0, 100000.0, 1000000.0],\n",
       "  'base_estimator__split_criteria': ['impurity', 'max_samples'],\n",
       "  'base_estimator__max_features': [None, 'auto']},\n",
       " {'n_estimators': [50],\n",
       "  'algorithm': ['SAMME'],\n",
       "  'base_estimator__random_state': [1],\n",
       "  'base_estimator__kernel': ['poly'],\n",
       "  'base_estimator__degree': [3, 5],\n",
       "  'base_estimator__C': [0.05, 0.2, 0.55, 7, 55, 10000.0],\n",
       "  'base_estimator__gamma': [0.1, 1, 10.0],\n",
       "  'base_estimator__max_iter': [10000.0, 100000.0, 1000000.0],\n",
       "  'base_estimator__split_criteria': ['impurity', 'max_samples'],\n",
       "  'base_estimator__max_features': [None, 'auto']}]"
      ]
     },
     "metadata": {},
     "execution_count": 3
    }
   ],
   "source": [
    "b.get_parameters()"
   ]
  },
  {
   "cell_type": "code",
   "execution_count": 4,
   "metadata": {},
   "outputs": [
    {
     "output_type": "stream",
     "name": "stdout",
     "text": [
      "{'n_estimators': [50], 'algorithm': ['SAMME'], 'base_estimator__C': 7, 'base_estimator__degree': 7, 'base_estimator__gamma': 0.1, 'base_estimator__kernel': 'poly', 'base_estimator__max_features': 'auto', 'base_estimator__max_iter': 10000.0, 'base_estimator__random_state': 1, 'base_estimator__split_criteria': 'impurity'}\n"
     ]
    }
   ],
   "source": [
    "parameters = {'C': 7, 'degree': 7, 'gamma': 0.1, 'kernel': 'poly', 'max_features': 'auto', 'max_iter': 10000.0, 'random_state': 1, 'split_criteria': 'impurity'}\n",
    "print(b.merge_parameters(parameters))"
   ]
  },
  {
   "cell_type": "code",
   "execution_count": 5,
   "metadata": {},
   "outputs": [
    {
     "output_type": "execute_result",
     "data": {
      "text/plain": [
       "'stree'"
      ]
     },
     "metadata": {},
     "execution_count": 5
    }
   ],
   "source": [
    "b._base_model.get_model_name()"
   ]
  },
  {
   "cell_type": "code",
   "execution_count": null,
   "metadata": {},
   "outputs": [],
   "source": []
  }
 ]
}