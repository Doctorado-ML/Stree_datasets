{
 "cells": [
  {
   "cell_type": "code",
   "execution_count": 1,
   "metadata": {},
   "outputs": [],
   "source": [
    "from sklearn.model_selection import GridSearchCV, cross_validate\n",
    "from stree import Stree\n",
    "from experimentation.Sets import Datasets\n",
    "from experimentation import Experiment"
   ]
  },
  {
   "cell_type": "code",
   "execution_count": 2,
   "metadata": {},
   "outputs": [],
   "source": [
    "dataset_name = \"cylinder-bands\"\n",
    "dataset_name = \"pima\"\n",
    "dataset_name = \"conn-bench-sonar-mines-rocks\"\n",
    "dataset_name = \"libras\"\n",
    "parameters = {\"C\": .15, \"degree\": 6, \"gamma\": .7, \"kernel\": \"poly\", \"max_features\": None, \"max_iter\": 100000.0, \"random_state\": 0}\n",
    "#parameters = {'C': .17, 'degree': 5, 'gamma': 0.1, 'kernel': 'poly', 'max_features': 'auto', 'max_iter': 10000.0, 'random_state': 1, 'split_criteria': 'impurity'}\n",
    "#parameters = {\"C\": 0.2, \"max_iter\": 10000.0, \"random_state\": 1}\n",
    "#parameters = {\"C\": 0.55, \"gamma\": 0.1, \"kernel\": \"rbf\", \"max_iter\": 10000.0, \"random_state\": 1}\n",
    "#parameters = {\"C\": 55, \"max_iter\": 10000.0, \"random_state\": 1}"
   ]
  },
  {
   "cell_type": "code",
   "execution_count": 3,
   "metadata": {},
   "outputs": [],
   "source": [
    "datasets = Datasets(normalize=True, standardize=False, set_of_files=\"tanveer\")\n",
    "X, y = datasets.load(dataset_name)"
   ]
  },
  {
   "cell_type": "code",
   "execution_count": 10,
   "metadata": {},
   "outputs": [],
   "source": [
    "clf = Stree(**parameters)\n",
    "results = cross_validate(clf, X, y, n_jobs=1, return_estimator=True)"
   ]
  },
  {
   "cell_type": "code",
   "execution_count": 13,
   "metadata": {},
   "outputs": [
    {
     "name": "stdout",
     "output_type": "stream",
     "text": [
      "root feaures=(0, 1, 2, 3, 4, 5, 6, 7, 8, 9, 10, 11, 12, 13, 14, 15, 16, 17, 18, 19, 20, 21, 22, 23, 24, 25, 26, 27, 28, 29, 30, 31, 32, 33, 34, 35, 36, 37, 38, 39, 40, 41, 42, 43, 44, 45, 46, 47, 48, 49, 50, 51, 52, 53, 54, 55, 56, 57, 58, 59, 60, 61, 62, 63, 64, 65, 66, 67, 68, 69, 70, 71, 72, 73, 74, 75, 76, 77, 78, 79, 80, 81, 82, 83, 84, 85, 86, 87, 88, 89) impurity=0.9999 counts=(array([ 0,  1,  2,  3,  4,  5,  6,  7,  8,  9, 10, 11, 12, 13, 14]), array([19, 19, 19, 19, 20, 19, 19, 19, 19, 20, 19, 19, 19, 19, 20]))\n",
      "root - Down feaures=(0, 1, 2, 3, 4, 5, 6, 7, 8, 9, 10, 11, 12, 13, 14, 15, 16, 17, 18, 19, 20, 21, 22, 23, 24, 25, 26, 27, 28, 29, 30, 31, 32, 33, 34, 35, 36, 37, 38, 39, 40, 41, 42, 43, 44, 45, 46, 47, 48, 49, 50, 51, 52, 53, 54, 55, 56, 57, 58, 59, 60, 61, 62, 63, 64, 65, 66, 67, 68, 69, 70, 71, 72, 73, 74, 75, 76, 77, 78, 79, 80, 81, 82, 83, 84, 85, 86, 87, 88, 89) impurity=0.9613 counts=(array([ 0,  1,  2,  4,  5,  6,  7,  8,  9, 10, 11, 12, 13, 14]), array([19, 19, 18, 11, 10, 18,  4, 19, 20,  8, 19,  3, 18, 11]))\n",
      "root - Down - Down feaures=(0, 1, 2, 3, 4, 5, 6, 7, 8, 9, 10, 11, 12, 13, 14, 15, 16, 17, 18, 19, 20, 21, 22, 23, 24, 25, 26, 27, 28, 29, 30, 31, 32, 33, 34, 35, 36, 37, 38, 39, 40, 41, 42, 43, 44, 45, 46, 47, 48, 49, 50, 51, 52, 53, 54, 55, 56, 57, 58, 59, 60, 61, 62, 63, 64, 65, 66, 67, 68, 69, 70, 71, 72, 73, 74, 75, 76, 77, 78, 79, 80, 81, 82, 83, 84, 85, 86, 87, 88, 89) impurity=0.8726 counts=(array([ 5, 13, 14]), array([ 3,  4, 10]))\n",
      "root - Down - Down - Down, <pure> - Leaf class=5 belief= 1.000000 impurity=0.0000 counts=(array([5]), array([2]))\n",
      "root - Down - Down - Up feaures=(0, 1, 2, 3, 4, 5, 6, 7, 8, 9, 10, 11, 12, 13, 14, 15, 16, 17, 18, 19, 20, 21, 22, 23, 24, 25, 26, 27, 28, 29, 30, 31, 32, 33, 34, 35, 36, 37, 38, 39, 40, 41, 42, 43, 44, 45, 46, 47, 48, 49, 50, 51, 52, 53, 54, 55, 56, 57, 58, 59, 60, 61, 62, 63, 64, 65, 66, 67, 68, 69, 70, 71, 72, 73, 74, 75, 76, 77, 78, 79, 80, 81, 82, 83, 84, 85, 86, 87, 88, 89) impurity=0.7312 counts=(array([ 5, 13, 14]), array([ 1,  4, 10]))\n",
      "root - Down - Down - Up - Down, <pure> - Leaf class=5 belief= 1.000000 impurity=0.0000 counts=(array([5]), array([1]))\n",
      "root - Down - Down - Up - Up feaures=(0, 1, 2, 3, 4, 5, 6, 7, 8, 9, 10, 11, 12, 13, 14, 15, 16, 17, 18, 19, 20, 21, 22, 23, 24, 25, 26, 27, 28, 29, 30, 31, 32, 33, 34, 35, 36, 37, 38, 39, 40, 41, 42, 43, 44, 45, 46, 47, 48, 49, 50, 51, 52, 53, 54, 55, 56, 57, 58, 59, 60, 61, 62, 63, 64, 65, 66, 67, 68, 69, 70, 71, 72, 73, 74, 75, 76, 77, 78, 79, 80, 81, 82, 83, 84, 85, 86, 87, 88, 89) impurity=0.8631 counts=(array([13, 14]), array([ 4, 10]))\n",
      "root - Down - Down - Up - Up - Down, <pure> - Leaf class=13 belief= 1.000000 impurity=0.0000 counts=(array([13]), array([4]))\n",
      "root - Down - Down - Up - Up - Up, <pure> - Leaf class=14 belief= 1.000000 impurity=0.0000 counts=(array([14]), array([10]))\n",
      "root - Down - Up feaures=(0, 1, 2, 3, 4, 5, 6, 7, 8, 9, 10, 11, 12, 13, 14, 15, 16, 17, 18, 19, 20, 21, 22, 23, 24, 25, 26, 27, 28, 29, 30, 31, 32, 33, 34, 35, 36, 37, 38, 39, 40, 41, 42, 43, 44, 45, 46, 47, 48, 49, 50, 51, 52, 53, 54, 55, 56, 57, 58, 59, 60, 61, 62, 63, 64, 65, 66, 67, 68, 69, 70, 71, 72, 73, 74, 75, 76, 77, 78, 79, 80, 81, 82, 83, 84, 85, 86, 87, 88, 89) impurity=0.9359 counts=(array([ 0,  1,  2,  4,  5,  6,  7,  8,  9, 10, 11, 12, 13, 14]), array([19, 19, 18, 11,  7, 18,  4, 19, 20,  8, 19,  3, 14,  1]))\n",
      "root - Down - Up - Down feaures=(0, 1, 2, 3, 4, 5, 6, 7, 8, 9, 10, 11, 12, 13, 14, 15, 16, 17, 18, 19, 20, 21, 22, 23, 24, 25, 26, 27, 28, 29, 30, 31, 32, 33, 34, 35, 36, 37, 38, 39, 40, 41, 42, 43, 44, 45, 46, 47, 48, 49, 50, 51, 52, 53, 54, 55, 56, 57, 58, 59, 60, 61, 62, 63, 64, 65, 66, 67, 68, 69, 70, 71, 72, 73, 74, 75, 76, 77, 78, 79, 80, 81, 82, 83, 84, 85, 86, 87, 88, 89) impurity=0.9548 counts=(array([ 0,  1,  2,  4,  5,  6,  7,  8,  9, 10, 11, 12, 13]), array([19, 19, 18, 11,  7, 18,  4, 19, 20,  8, 19,  3, 14]))\n",
      "root - Down - Up - Down - Down, <pure> - Leaf class=12 belief= 1.000000 impurity=0.0000 counts=(array([12]), array([3]))\n",
      "root - Down - Up - Down - Up feaures=(0, 1, 2, 3, 4, 5, 6, 7, 8, 9, 10, 11, 12, 13, 14, 15, 16, 17, 18, 19, 20, 21, 22, 23, 24, 25, 26, 27, 28, 29, 30, 31, 32, 33, 34, 35, 36, 37, 38, 39, 40, 41, 42, 43, 44, 45, 46, 47, 48, 49, 50, 51, 52, 53, 54, 55, 56, 57, 58, 59, 60, 61, 62, 63, 64, 65, 66, 67, 68, 69, 70, 71, 72, 73, 74, 75, 76, 77, 78, 79, 80, 81, 82, 83, 84, 85, 86, 87, 88, 89) impurity=0.9675 counts=(array([ 0,  1,  2,  4,  5,  6,  7,  8,  9, 10, 11, 13]), array([19, 19, 18, 11,  7, 18,  4, 19, 20,  8, 19, 14]))\n",
      "root - Down - Up - Down - Up - Down feaures=(0, 1, 2, 3, 4, 5, 6, 7, 8, 9, 10, 11, 12, 13, 14, 15, 16, 17, 18, 19, 20, 21, 22, 23, 24, 25, 26, 27, 28, 29, 30, 31, 32, 33, 34, 35, 36, 37, 38, 39, 40, 41, 42, 43, 44, 45, 46, 47, 48, 49, 50, 51, 52, 53, 54, 55, 56, 57, 58, 59, 60, 61, 62, 63, 64, 65, 66, 67, 68, 69, 70, 71, 72, 73, 74, 75, 76, 77, 78, 79, 80, 81, 82, 83, 84, 85, 86, 87, 88, 89) impurity=0.7248 counts=(array([5, 6, 7]), array([5, 1, 1]))\n",
      "root - Down - Up - Down - Up - Down - Down, <pure> - Leaf class=6 belief= 1.000000 impurity=0.0000 counts=(array([6]), array([1]))\n",
      "root - Down - Up - Down - Up - Down - Up feaures=(0, 1, 2, 3, 4, 5, 6, 7, 8, 9, 10, 11, 12, 13, 14, 15, 16, 17, 18, 19, 20, 21, 22, 23, 24, 25, 26, 27, 28, 29, 30, 31, 32, 33, 34, 35, 36, 37, 38, 39, 40, 41, 42, 43, 44, 45, 46, 47, 48, 49, 50, 51, 52, 53, 54, 55, 56, 57, 58, 59, 60, 61, 62, 63, 64, 65, 66, 67, 68, 69, 70, 71, 72, 73, 74, 75, 76, 77, 78, 79, 80, 81, 82, 83, 84, 85, 86, 87, 88, 89) impurity=0.6500 counts=(array([5, 7]), array([5, 1]))\n",
      "root - Down - Up - Down - Up - Down - Up - Down, <pure> - Leaf class=5 belief= 1.000000 impurity=0.0000 counts=(array([5]), array([5]))\n",
      "root - Down - Up - Down - Up - Down - Up - Up, <pure> - Leaf class=7 belief= 1.000000 impurity=0.0000 counts=(array([7]), array([1]))\n",
      "root - Down - Up - Down - Up - Up, <cgaf> - Leaf class=9 belief= 0.118343 impurity=0.9488 counts=(array([ 0,  1,  2,  4,  5,  6,  7,  8,  9, 10, 11, 13]), array([19, 19, 18, 11,  2, 17,  3, 19, 20,  8, 19, 14]))\n",
      "root - Down - Up - Up, <pure> - Leaf class=14 belief= 1.000000 impurity=0.0000 counts=(array([14]), array([1]))\n",
      "root - Up, <cgaf> - Leaf class=3 belief= 0.208791 impurity=0.8775 counts=(array([ 2,  3,  4,  5,  6,  7, 10, 12, 13, 14]), array([ 1, 19,  9,  9,  1, 15, 11, 16,  1,  9]))\n",
      "\n"
     ]
    }
   ],
   "source": [
    "print(results['estimator'][0])"
   ]
  },
  {
   "cell_type": "code",
   "execution_count": 16,
   "metadata": {},
   "outputs": [],
   "source": [
    "from sklearn.tree import DecisionTreeClassifier\n",
    "dt = DecisionTreeClassifier(random_state=1)\n",
    "resdt = cross_validate(dt, X, y, n_jobs=1, return_estimator=True)"
   ]
  },
  {
   "cell_type": "code",
   "execution_count": 18,
   "metadata": {},
   "outputs": [
    {
     "name": "stdout",
     "output_type": "stream",
     "text": [
      "0.5416666666666667\n"
     ]
    }
   ],
   "source": [
    "print(resdt['test_score'].mean()) ki"
   ]
  },
  {
   "cell_type": "code",
   "execution_count": 14,
   "metadata": {},
   "outputs": [
    {
     "name": "stdout",
     "output_type": "stream",
     "text": [
      "[0.09722222 0.25       0.54166667 0.31944444 0.13888889]\n"
     ]
    }
   ],
   "source": [
    "print(results['test_score'])"
   ]
  },
  {
   "cell_type": "code",
   "execution_count": null,
   "metadata": {},
   "outputs": [],
   "source": [
    "results['test_score'].mean()"
   ]
  },
  {
   "cell_type": "code",
   "execution_count": 7,
   "metadata": {},
   "outputs": [],
   "source": [
    "# 864 modelos por cada dataset\n",
    "C = [0.2, 7, 55]\n",
    "max_iter = [1e4]\n",
    "gamma = [\"scale\"] #[1e-1, 1, 1e1]\n",
    "max_features = [\"auto\"]\n",
    "split_criteria = [\"impurity\"]\n",
    "param_grid = [\n",
    "            {\n",
    "                \"random_state\": [1],\n",
    "                \"C\": C,\n",
    "                \"max_iter\": max_iter,\n",
    "                \"split_criteria\": split_criteria,\n",
    "                \"max_features\": max_features,\n",
    "            },\n",
    "            {\n",
    "                \"random_state\": [1],\n",
    "                \"kernel\": [\"rbf\"],\n",
    "                \"C\": C,\n",
    "                \"gamma\": gamma,\n",
    "                \"max_iter\": max_iter,\n",
    "                \"split_criteria\": split_criteria,\n",
    "                \"max_features\": max_features,\n",
    "            },\n",
    "            {\n",
    "                \"random_state\": [1],\n",
    "                \"kernel\": [\"poly\"],\n",
    "                \"degree\": [3, 5],\n",
    "                \"C\": C,\n",
    "                \"gamma\": gamma,\n",
    "                \"max_iter\": max_iter,\n",
    "                \"split_criteria\": split_criteria,\n",
    "                \"max_features\": max_features,\n",
    "            },\n",
    "        ]"
   ]
  },
  {
   "cell_type": "code",
   "execution_count": 8,
   "metadata": {},
   "outputs": [],
   "source": [
    "param2_grid = [\n",
    "            {\n",
    "                \"random_state\": [1],\n",
    "                \"kernel\": [\"poly\"],\n",
    "                \"degree\": [5, 7],\n",
    "                \"C\": [55],\n",
    "                \"split_criteria\": split_criteria,\n",
    "                \"max_features\": max_features,\n",
    "            },\n",
    "        ]"
   ]
  },
  {
   "cell_type": "code",
   "execution_count": 9,
   "metadata": {},
   "outputs": [
    {
     "name": "stderr",
     "output_type": "stream",
     "text": [
      "[Parallel(n_jobs=1)]: Using backend SequentialBackend with 1 concurrent workers.\n"
     ]
    },
    {
     "name": "stdout",
     "output_type": "stream",
     "text": [
      "Fitting 2 folds for each of 12 candidates, totalling 24 fits\n",
      "[CV] C=0.2, max_features=auto, max_iter=10000.0, random_state=1, split_criteria=impurity \n",
      "[CV]  C=0.2, max_features=auto, max_iter=10000.0, random_state=1, split_criteria=impurity, score=0.548, total= 6.4min\n",
      "[CV] C=0.2, max_features=auto, max_iter=10000.0, random_state=1, split_criteria=impurity \n"
     ]
    },
    {
     "name": "stderr",
     "output_type": "stream",
     "text": [
      "[Parallel(n_jobs=1)]: Done   1 out of   1 | elapsed:  6.4min remaining:    0.0s\n"
     ]
    },
    {
     "name": "stdout",
     "output_type": "stream",
     "text": [
      "[CV]  C=0.2, max_features=auto, max_iter=10000.0, random_state=1, split_criteria=impurity, score=0.346, total= 9.2min\n",
      "[CV] C=7, max_features=auto, max_iter=10000.0, random_state=1, split_criteria=impurity \n"
     ]
    },
    {
     "name": "stderr",
     "output_type": "stream",
     "text": [
      "[Parallel(n_jobs=1)]: Done   2 out of   2 | elapsed: 15.7min remaining:    0.0s\n"
     ]
    },
    {
     "name": "stdout",
     "output_type": "stream",
     "text": [
      "[CV]  C=7, max_features=auto, max_iter=10000.0, random_state=1, split_criteria=impurity, score=0.673, total=17.0min\n",
      "[CV] C=7, max_features=auto, max_iter=10000.0, random_state=1, split_criteria=impurity \n"
     ]
    },
    {
     "name": "stderr",
     "output_type": "stream",
     "text": [
      "[Parallel(n_jobs=1)]: Done   3 out of   3 | elapsed: 32.7min remaining:    0.0s\n"
     ]
    },
    {
     "name": "stdout",
     "output_type": "stream",
     "text": [
      "[CV]  C=7, max_features=auto, max_iter=10000.0, random_state=1, split_criteria=impurity, score=0.356, total=10.9min\n",
      "[CV] C=55, max_features=auto, max_iter=10000.0, random_state=1, split_criteria=impurity \n"
     ]
    },
    {
     "name": "stderr",
     "output_type": "stream",
     "text": [
      "[Parallel(n_jobs=1)]: Done   4 out of   4 | elapsed: 43.6min remaining:    0.0s\n",
      "/Users/rmontanana/.virtualenvs/general/lib/python3.8/site-packages/sklearn/svm/_base.py:976: ConvergenceWarning: Liblinear failed to converge, increase the number of iterations.\n",
      "  warnings.warn(\"Liblinear failed to converge, increase \"\n"
     ]
    },
    {
     "name": "stdout",
     "output_type": "stream",
     "text": [
      "[CV]  C=55, max_features=auto, max_iter=10000.0, random_state=1, split_criteria=impurity, score=0.538, total= 7.3min\n",
      "[CV] C=55, max_features=auto, max_iter=10000.0, random_state=1, split_criteria=impurity \n"
     ]
    },
    {
     "name": "stderr",
     "output_type": "stream",
     "text": [
      "[Parallel(n_jobs=1)]: Done   5 out of   5 | elapsed: 50.9min remaining:    0.0s\n",
      "/Users/rmontanana/.virtualenvs/general/lib/python3.8/site-packages/sklearn/svm/_base.py:976: ConvergenceWarning: Liblinear failed to converge, increase the number of iterations.\n",
      "  warnings.warn(\"Liblinear failed to converge, increase \"\n",
      "/Users/rmontanana/.virtualenvs/general/lib/python3.8/site-packages/sklearn/svm/_base.py:976: ConvergenceWarning: Liblinear failed to converge, increase the number of iterations.\n",
      "  warnings.warn(\"Liblinear failed to converge, increase \"\n",
      "/Users/rmontanana/.virtualenvs/general/lib/python3.8/site-packages/sklearn/svm/_base.py:976: ConvergenceWarning: Liblinear failed to converge, increase the number of iterations.\n",
      "  warnings.warn(\"Liblinear failed to converge, increase \"\n",
      "[Parallel(n_jobs=1)]: Done   6 out of   6 | elapsed: 55.8min remaining:    0.0s\n"
     ]
    },
    {
     "name": "stdout",
     "output_type": "stream",
     "text": [
      "[CV]  C=55, max_features=auto, max_iter=10000.0, random_state=1, split_criteria=impurity, score=0.317, total= 4.9min\n",
      "[CV] C=0.2, gamma=scale, kernel=rbf, max_features=auto, max_iter=10000.0, random_state=1, split_criteria=impurity \n",
      "[CV]  C=0.2, gamma=scale, kernel=rbf, max_features=auto, max_iter=10000.0, random_state=1, split_criteria=impurity, score=0.462, total=33.4min\n",
      "[CV] C=0.2, gamma=scale, kernel=rbf, max_features=auto, max_iter=10000.0, random_state=1, split_criteria=impurity \n"
     ]
    },
    {
     "name": "stderr",
     "output_type": "stream",
     "text": [
      "[Parallel(n_jobs=1)]: Done   7 out of   7 | elapsed: 89.2min remaining:    0.0s\n"
     ]
    },
    {
     "name": "stdout",
     "output_type": "stream",
     "text": [
      "[CV]  C=0.2, gamma=scale, kernel=rbf, max_features=auto, max_iter=10000.0, random_state=1, split_criteria=impurity, score=0.413, total= 2.8min\n",
      "[CV] C=7, gamma=scale, kernel=rbf, max_features=auto, max_iter=10000.0, random_state=1, split_criteria=impurity \n"
     ]
    },
    {
     "name": "stderr",
     "output_type": "stream",
     "text": [
      "[Parallel(n_jobs=1)]: Done   8 out of   8 | elapsed: 92.0min remaining:    0.0s\n"
     ]
    },
    {
     "name": "stdout",
     "output_type": "stream",
     "text": [
      "[CV]  C=7, gamma=scale, kernel=rbf, max_features=auto, max_iter=10000.0, random_state=1, split_criteria=impurity, score=0.529, total= 1.9min\n",
      "[CV] C=7, gamma=scale, kernel=rbf, max_features=auto, max_iter=10000.0, random_state=1, split_criteria=impurity \n"
     ]
    },
    {
     "name": "stderr",
     "output_type": "stream",
     "text": [
      "[Parallel(n_jobs=1)]: Done   9 out of   9 | elapsed: 93.8min remaining:    0.0s\n"
     ]
    },
    {
     "name": "stdout",
     "output_type": "stream",
     "text": [
      "[CV]  C=7, gamma=scale, kernel=rbf, max_features=auto, max_iter=10000.0, random_state=1, split_criteria=impurity, score=0.433, total= 2.8min\n",
      "[CV] C=55, gamma=scale, kernel=rbf, max_features=auto, max_iter=10000.0, random_state=1, split_criteria=impurity \n",
      "[CV]  C=55, gamma=scale, kernel=rbf, max_features=auto, max_iter=10000.0, random_state=1, split_criteria=impurity, score=0.519, total=  55.6s\n",
      "[CV] C=55, gamma=scale, kernel=rbf, max_features=auto, max_iter=10000.0, random_state=1, split_criteria=impurity \n",
      "[CV]  C=55, gamma=scale, kernel=rbf, max_features=auto, max_iter=10000.0, random_state=1, split_criteria=impurity, score=0.394, total=  55.7s\n",
      "[CV] C=0.2, degree=3, gamma=scale, kernel=poly, max_features=auto, max_iter=10000.0, random_state=1, split_criteria=impurity \n",
      "[CV]  C=0.2, degree=3, gamma=scale, kernel=poly, max_features=auto, max_iter=10000.0, random_state=1, split_criteria=impurity, score=0.567, total= 5.5min\n",
      "[CV] C=0.2, degree=3, gamma=scale, kernel=poly, max_features=auto, max_iter=10000.0, random_state=1, split_criteria=impurity \n",
      "[CV]  C=0.2, degree=3, gamma=scale, kernel=poly, max_features=auto, max_iter=10000.0, random_state=1, split_criteria=impurity, score=0.413, total= 3.7min\n",
      "[CV] C=0.2, degree=5, gamma=scale, kernel=poly, max_features=auto, max_iter=10000.0, random_state=1, split_criteria=impurity \n",
      "[CV]  C=0.2, degree=5, gamma=scale, kernel=poly, max_features=auto, max_iter=10000.0, random_state=1, split_criteria=impurity, score=0.538, total= 5.5min\n",
      "[CV] C=0.2, degree=5, gamma=scale, kernel=poly, max_features=auto, max_iter=10000.0, random_state=1, split_criteria=impurity \n",
      "[CV]  C=0.2, degree=5, gamma=scale, kernel=poly, max_features=auto, max_iter=10000.0, random_state=1, split_criteria=impurity, score=0.442, total= 4.6min\n",
      "[CV] C=7, degree=3, gamma=scale, kernel=poly, max_features=auto, max_iter=10000.0, random_state=1, split_criteria=impurity \n",
      "[CV]  C=7, degree=3, gamma=scale, kernel=poly, max_features=auto, max_iter=10000.0, random_state=1, split_criteria=impurity, score=0.577, total= 2.7min\n",
      "[CV] C=7, degree=3, gamma=scale, kernel=poly, max_features=auto, max_iter=10000.0, random_state=1, split_criteria=impurity \n",
      "[CV]  C=7, degree=3, gamma=scale, kernel=poly, max_features=auto, max_iter=10000.0, random_state=1, split_criteria=impurity, score=0.510, total=15.6min\n",
      "[CV] C=7, degree=5, gamma=scale, kernel=poly, max_features=auto, max_iter=10000.0, random_state=1, split_criteria=impurity \n",
      "[CV]  C=7, degree=5, gamma=scale, kernel=poly, max_features=auto, max_iter=10000.0, random_state=1, split_criteria=impurity, score=0.452, total= 2.8min\n",
      "[CV] C=7, degree=5, gamma=scale, kernel=poly, max_features=auto, max_iter=10000.0, random_state=1, split_criteria=impurity \n",
      "[CV]  C=7, degree=5, gamma=scale, kernel=poly, max_features=auto, max_iter=10000.0, random_state=1, split_criteria=impurity, score=0.462, total= 4.7min\n",
      "[CV] C=55, degree=3, gamma=scale, kernel=poly, max_features=auto, max_iter=10000.0, random_state=1, split_criteria=impurity \n",
      "[CV]  C=55, degree=3, gamma=scale, kernel=poly, max_features=auto, max_iter=10000.0, random_state=1, split_criteria=impurity, score=0.596, total=  56.0s\n",
      "[CV] C=55, degree=3, gamma=scale, kernel=poly, max_features=auto, max_iter=10000.0, random_state=1, split_criteria=impurity \n",
      "[CV]  C=55, degree=3, gamma=scale, kernel=poly, max_features=auto, max_iter=10000.0, random_state=1, split_criteria=impurity, score=0.404, total= 2.8min\n",
      "[CV] C=55, degree=5, gamma=scale, kernel=poly, max_features=auto, max_iter=10000.0, random_state=1, split_criteria=impurity \n",
      "[CV]  C=55, degree=5, gamma=scale, kernel=poly, max_features=auto, max_iter=10000.0, random_state=1, split_criteria=impurity, score=0.538, total= 1.8min\n",
      "[CV] C=55, degree=5, gamma=scale, kernel=poly, max_features=auto, max_iter=10000.0, random_state=1, split_criteria=impurity \n",
      "[CV]  C=55, degree=5, gamma=scale, kernel=poly, max_features=auto, max_iter=10000.0, random_state=1, split_criteria=impurity, score=0.375, total= 2.7min\n"
     ]
    },
    {
     "name": "stderr",
     "output_type": "stream",
     "text": [
      "[Parallel(n_jobs=1)]: Done  24 out of  24 | elapsed: 151.8min finished\n"
     ]
    },
    {
     "data": {
      "text/plain": [
       "GridSearchCV(cv=2, estimator=Stree(), n_jobs=1,\n",
       "             param_grid=[{'C': [0.2, 7, 55], 'max_features': ['auto'],\n",
       "                          'max_iter': [10000.0], 'random_state': [1],\n",
       "                          'split_criteria': ['impurity']},\n",
       "                         {'C': [0.2, 7, 55], 'gamma': ['scale'],\n",
       "                          'kernel': ['rbf'], 'max_features': ['auto'],\n",
       "                          'max_iter': [10000.0], 'random_state': [1],\n",
       "                          'split_criteria': ['impurity']},\n",
       "                         {'C': [0.2, 7, 55], 'degree': [3, 5],\n",
       "                          'gamma': ['scale'], 'kernel': ['poly'],\n",
       "                          'max_features': ['auto'], 'max_iter': [10000.0],\n",
       "                          'random_state': [1],\n",
       "                          'split_criteria': ['impurity']}],\n",
       "             verbose=10)"
      ]
     },
     "execution_count": 9,
     "metadata": {},
     "output_type": "execute_result"
    }
   ],
   "source": [
    "#clf = Stree()\n",
    "#model = GridSearchCV(clf, n_jobs=1, verbose=10, param_grid=param_grid, cv=2)\n",
    "#model.fit(X, y)"
   ]
  },
  {
   "cell_type": "code",
   "execution_count": 10,
   "metadata": {
    "tags": []
   },
   "outputs": [
    {
     "name": "stdout",
     "output_type": "stream",
     "text": [
      "{'C': 7, 'degree': 3, 'gamma': 'scale', 'kernel': 'poly', 'max_features': 'auto', 'max_iter': 10000.0, 'random_state': 1, 'split_criteria': 'impurity'}\n"
     ]
    }
   ],
   "source": [
    "print(model.cv_results_['params'][model.best_index_])"
   ]
  },
  {
   "cell_type": "code",
   "execution_count": 11,
   "metadata": {},
   "outputs": [
    {
     "name": "stdout",
     "output_type": "stream",
     "text": [
      "0.5432692307692307\n"
     ]
    }
   ],
   "source": [
    "print(model.cv_results_['mean_test_score'][model.best_index_])"
   ]
  },
  {
   "cell_type": "code",
   "execution_count": 12,
   "metadata": {},
   "outputs": [
    {
     "name": "stdout",
     "output_type": "stream",
     "text": [
      "\n"
     ]
    }
   ],
   "source": [
    "print(clf)"
   ]
  },
  {
   "cell_type": "code",
   "execution_count": 1,
   "metadata": {},
   "outputs": [],
   "source": [
    "from stree import Stree\n",
    "from typing import Union, Optional, List\n",
    "from abc import ABC\n",
    "from sklearn.ensemble import (\n",
    "    AdaBoostClassifier,  # type: ignore\n",
    "    BaggingClassifier,  # type: ignore\n",
    ")\n",
    "from sklearn.ensemble import BaseEnsemble  # type: ignore\n",
    "from sklearn.base import BaseEstimator  # type: ignore\n",
    "from sklearn.svm import LinearSVC  # type: ignore\n",
    "from sklearn.tree import DecisionTreeClassifier  # type: ignore\n",
    "from odte import Odte\n",
    "\n",
    "\n",
    "class ModelBase(ABC):\n",
    "    def __init__(self, random_state: Optional[int]):\n",
    "        self._random_state = random_state\n",
    "\n",
    "    def get_model_name(self) -> str:\n",
    "        return self._model_name\n",
    "\n",
    "    def get_model(self) -> Union[BaseEnsemble, BaseEstimator]:\n",
    "        return self._clf\n",
    "\n",
    "    def get_parameters(self) -> dict:\n",
    "        return self._param_grid\n",
    "\n",
    "    def modified_parameters(self, optimum_parameters) -> dict:\n",
    "        result = dict()\n",
    "        # useful for ensembles\n",
    "        excluded = [\"base_estimator\"]\n",
    "        default_parameters = type(self._clf)().get_params()\n",
    "        for key, data in optimum_parameters.items():\n",
    "            if (\n",
    "                key not in default_parameters\n",
    "                or default_parameters[key] != data\n",
    "            ) and key not in excluded:\n",
    "                result[key] = data\n",
    "        return result\n",
    "\n",
    "\n",
    "class ModelStree(ModelBase):\n",
    "    def __init__(self, random_state: Optional[int] = None) -> None:\n",
    "        self._clf = Stree()\n",
    "        super().__init__(random_state)\n",
    "        self._model_name = \"stree\"\n",
    "        C = [0.05, 0.2, 0.55, 7, 55, 1e4]\n",
    "        max_iter = [1e4, 1e5, 1e6]\n",
    "        gamma = [1e-1, 1, 1e1]\n",
    "        max_features = [None, \"auto\"]\n",
    "        split_criteria = [\"impurity\", \"max_samples\"]\n",
    "        self._param_grid = [\n",
    "            {\n",
    "                \"random_state\": [self._random_state],\n",
    "                \"C\": C,\n",
    "                \"max_iter\": max_iter,\n",
    "                \"split_criteria\": split_criteria,\n",
    "                \"max_features\": max_features,\n",
    "            },\n",
    "            {\n",
    "                \"random_state\": [self._random_state],\n",
    "                \"kernel\": [\"rbf\"],\n",
    "                \"C\": C,\n",
    "                \"gamma\": gamma,\n",
    "                \"max_iter\": max_iter,\n",
    "                \"split_criteria\": split_criteria,\n",
    "                \"max_features\": max_features,\n",
    "            },\n",
    "            {\n",
    "                \"random_state\": [self._random_state],\n",
    "                \"kernel\": [\"poly\"],\n",
    "                \"degree\": [3, 5],\n",
    "                \"C\": C,\n",
    "                \"gamma\": gamma,\n",
    "                \"max_iter\": max_iter,\n",
    "                \"split_criteria\": split_criteria,\n",
    "                \"max_features\": max_features,\n",
    "            },\n",
    "        ]\n",
    "\n",
    "\n",
    "class ModelSVC(ModelBase):\n",
    "    def __init__(self, random_state: Optional[int] = None) -> None:\n",
    "        super().__init__(random_state)\n",
    "        self._clf = LinearSVC()\n",
    "        self._model_name = \"svc\"\n",
    "        max_iter = [1e4, 1e5, 1e6]\n",
    "        self._param_grid = [\n",
    "            {\n",
    "                \"random_state\": [self._random_state],\n",
    "                \"C\": [1, 55, 1e4],\n",
    "                \"max_iter\": max_iter,\n",
    "            },\n",
    "        ]\n",
    "\n",
    "\n",
    "class ModelDecisionTree(ModelBase):\n",
    "    def __init__(self, random_state: Optional[int] = None) -> None:\n",
    "        super().__init__(random_state)\n",
    "        self._clf = DecisionTreeClassifier()\n",
    "        self._model_name = \"dtree\"\n",
    "        self._param_grid = [\n",
    "            {\n",
    "                \"random_state\": [self._random_state],\n",
    "                \"max_features\": [None, \"log2\", \"auto\"],\n",
    "            },\n",
    "        ]\n",
    "\n",
    "\n",
    "class Ensemble(ModelBase):\n",
    "    def __init__(\n",
    "        self,\n",
    "        random_state: Optional[int] = 0,\n",
    "        base_model: Union[BaseEnsemble, BaseEstimator] = None,\n",
    "    ) -> None:\n",
    "        super().__init__(random_state)\n",
    "        self._base_model = base_model\n",
    "\n",
    "    def merge_parameters(self, params: dict) -> dict:\n",
    "        result = self._parameters.copy()\n",
    "        for key, value in params.items():\n",
    "            result[f\"base_estimator__{key}\"] = value\n",
    "        return result\n",
    "\n",
    "    def get_parameters(self) -> List[dict]:\n",
    "        result = []\n",
    "        for base_group in self._base_model.get_parameters():\n",
    "            result.append(self.merge_parameters(base_group))\n",
    "        return result\n",
    "\n",
    "\n",
    "class ModelAdaBoost(Ensemble):\n",
    "    def __init__(\n",
    "        self, random_state: int, base_model: BaseEstimator = ModelStree\n",
    "    ):\n",
    "        # Build base_model\n",
    "        super().__init__(\n",
    "            random_state, base_model=base_model(random_state=random_state)\n",
    "        )\n",
    "        self._clf = AdaBoostClassifier(\n",
    "            base_estimator=self._base_model.get_model(),\n",
    "            random_state=random_state,\n",
    "        )\n",
    "        self._model_name = f\"Adaboost_{self._base_model.__class__.__name__}\"\n",
    "\n",
    "    def get_parameters(self) -> List[dict]:\n",
    "        self._parameters = {\"n_estimators\": [50], \"algorithm\": [\"SAMME\"]}\n",
    "        return super().get_parameters()"
   ]
  },
  {
   "cell_type": "code",
   "execution_count": 2,
   "metadata": {},
   "outputs": [],
   "source": [
    "b = ModelAdaBoost(1)"
   ]
  },
  {
   "cell_type": "code",
   "execution_count": 3,
   "metadata": {},
   "outputs": [
    {
     "data": {
      "text/plain": [
       "[{'n_estimators': [50],\n",
       "  'algorithm': ['SAMME'],\n",
       "  'base_estimator__random_state': [1],\n",
       "  'base_estimator__C': [0.05, 0.2, 0.55, 7, 55, 10000.0],\n",
       "  'base_estimator__max_iter': [10000.0, 100000.0, 1000000.0],\n",
       "  'base_estimator__split_criteria': ['impurity', 'max_samples'],\n",
       "  'base_estimator__max_features': [None, 'auto']},\n",
       " {'n_estimators': [50],\n",
       "  'algorithm': ['SAMME'],\n",
       "  'base_estimator__random_state': [1],\n",
       "  'base_estimator__kernel': ['rbf'],\n",
       "  'base_estimator__C': [0.05, 0.2, 0.55, 7, 55, 10000.0],\n",
       "  'base_estimator__gamma': [0.1, 1, 10.0],\n",
       "  'base_estimator__max_iter': [10000.0, 100000.0, 1000000.0],\n",
       "  'base_estimator__split_criteria': ['impurity', 'max_samples'],\n",
       "  'base_estimator__max_features': [None, 'auto']},\n",
       " {'n_estimators': [50],\n",
       "  'algorithm': ['SAMME'],\n",
       "  'base_estimator__random_state': [1],\n",
       "  'base_estimator__kernel': ['poly'],\n",
       "  'base_estimator__degree': [3, 5],\n",
       "  'base_estimator__C': [0.05, 0.2, 0.55, 7, 55, 10000.0],\n",
       "  'base_estimator__gamma': [0.1, 1, 10.0],\n",
       "  'base_estimator__max_iter': [10000.0, 100000.0, 1000000.0],\n",
       "  'base_estimator__split_criteria': ['impurity', 'max_samples'],\n",
       "  'base_estimator__max_features': [None, 'auto']}]"
      ]
     },
     "execution_count": 3,
     "metadata": {},
     "output_type": "execute_result"
    }
   ],
   "source": [
    "b.get_parameters()"
   ]
  },
  {
   "cell_type": "code",
   "execution_count": 4,
   "metadata": {},
   "outputs": [
    {
     "name": "stdout",
     "output_type": "stream",
     "text": [
      "{'n_estimators': [50], 'algorithm': ['SAMME'], 'base_estimator__C': 7, 'base_estimator__degree': 7, 'base_estimator__gamma': 0.1, 'base_estimator__kernel': 'poly', 'base_estimator__max_features': 'auto', 'base_estimator__max_iter': 10000.0, 'base_estimator__random_state': 1, 'base_estimator__split_criteria': 'impurity'}\n"
     ]
    }
   ],
   "source": [
    "parameters = {'C': 7, 'degree': 7, 'gamma': 0.1, 'kernel': 'poly', 'max_features': 'auto', 'max_iter': 10000.0, 'random_state': 1, 'split_criteria': 'impurity'}\n",
    "print(b.merge_parameters(parameters))"
   ]
  },
  {
   "cell_type": "code",
   "execution_count": 5,
   "metadata": {},
   "outputs": [
    {
     "data": {
      "text/plain": [
       "'stree'"
      ]
     },
     "execution_count": 5,
     "metadata": {},
     "output_type": "execute_result"
    }
   ],
   "source": [
    "b._base_model.get_model_name()"
   ]
  },
  {
   "cell_type": "code",
   "execution_count": null,
   "metadata": {},
   "outputs": [],
   "source": [
    "def _get_subspaces_set(\n",
    "        self, dataset: np.array, labels: np.array, max_features: int\n",
    "    ) -> np.array:\n",
    "        features = range(dataset.shape[1])\n",
    "        features_sets = list(combinations(features, max_features))\n",
    "        if len(features_sets) > 1:\n",
    "            if self._splitter_type == \"random\":\n",
    "                index = random.randint(0, len(features_sets) - 1)\n",
    "                return features_sets[index]\n",
    "            else:\n",
    "                # get only 3 sets at most\n",
    "                if len(features_sets) > 3:\n",
    "                    features_sets = random.sample(features_sets, 3)\n",
    "                return self._select_best_set(dataset, labels, features_sets)\n",
    "        else:\n",
    "            return features_sets[0]"
   ]
  },
  {
   "cell_type": "code",
   "execution_count": 3,
   "metadata": {},
   "outputs": [],
   "source": [
    "import random\n",
    "def generate_subspaces(features: int, max_features: int) -> list:\n",
    "    combs = set()\n",
    "    # take 3 combinations at most\n",
    "    combinations = 1 if max_features == features else 3\n",
    "    while len(combs) < combinations:\n",
    "        combs.add(tuple(sorted(random.sample(range(features), max_features))))\n",
    "    return list(combs)\n"
   ]
  },
  {
   "cell_type": "code",
   "execution_count": 6,
   "metadata": {},
   "outputs": [
    {
     "data": {
      "text/plain": [
       "[(2, 17, 51, 66, 79, 88, 98, 105, 145, 150),\n",
       " (1, 11, 27, 48, 86, 117, 124, 157, 180, 194),\n",
       " (11, 31, 42, 43, 61, 79, 138, 149, 150, 189)]"
      ]
     },
     "execution_count": 6,
     "metadata": {},
     "output_type": "execute_result"
    }
   ],
   "source": [
    "generate_subspaces(200, 10)"
   ]
  },
  {
   "cell_type": "code",
   "execution_count": null,
   "metadata": {},
   "outputs": [],
   "source": []
  }
 ],
 "metadata": {
  "kernelspec": {
   "display_name": "Python 3",
   "language": "python",
   "name": "python3"
  },
  "language_info": {
   "codemirror_mode": {
    "name": "ipython",
    "version": 3
   },
   "file_extension": ".py",
   "mimetype": "text/x-python",
   "name": "python",
   "nbconvert_exporter": "python",
   "pygments_lexer": "ipython3",
   "version": "3.8.2"
  }
 },
 "nbformat": 4,
 "nbformat_minor": 4
}
